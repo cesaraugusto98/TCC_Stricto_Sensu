{
 "cells": [
  {
   "cell_type": "markdown",
   "id": "fd1bd859",
   "metadata": {},
   "source": [
    "# TCC Strictu Sensu - Skin Cancer detector"
   ]
  },
  {
   "cell_type": "markdown",
   "id": "282418a2",
   "metadata": {},
   "source": [
    "## 1. Definição do Problema\n",
    "*Porque?* \n",
    "Cancer de pele é um dos cancer mais comuns na atualidade, se identificado no inicio, pode ser mais fácilmente tratado. A concientização é muito importante, devemos informar a população de modo geral e facilitar o teste, como por exemplo um simples carregar de uma foto em um aplicativo que já te retornará as chances de ser uma pinta ou mancha na pele se desenvolver em um cancer de pele.\n",
    "\n",
    "*Quem?* \n",
    "Este projeto visa ajudar todos que tiverem acesso a internet, ou smartphones, provendo uma maneira fácil de avaliar se pintas ou manchas na pele podem ser um cancer de pele em estágio inicial\n",
    "\n",
    "*Oque?*\n",
    "Um modelo de machine learning(mais precisamente deep learninng) que permitará que usuários externos testem pintas ou manchas, buscando por possiveis cancer de pele.\n",
    "\n",
    "*Quando?*\n",
    "O modelo deverá responder de maneira instantanea, ou mais próxima ao tempo real como 1 a 5 minutos. \n",
    "\n",
    "*Onde?*\n",
    "A principio através de input manual nesse projeto, mas no futuro usuários poderão carregar e testar imagens por um site ou applicativo de Smartphone."
   ]
  },
  {
   "cell_type": "code",
   "execution_count": null,
   "id": "3f8c40fe",
   "metadata": {},
   "outputs": [],
   "source": []
  },
  {
   "cell_type": "markdown",
   "id": "294c28e3",
   "metadata": {},
   "source": [
    "## 2. Coleta dos Dados\n",
    "Segundo os requisitos desse projeto, duas bases de dados são requeridas. O tema desse projeto tem sido muito trabalhado por vários projetos ao longo dos últimos anos, porém existem apenas algumas bases muito populares, praticamente todas providas pela mesma fonte a ISIC que anualmente (desde 2016) tem lançado um desafio de Machine Learning e providenciado datasets com milhares de imagens com este tema. Entretando como exigência do projeto tive de buscar uma base de dados distinta e após pesquisa encontrei um dataset pequeno mas que me fornece imagens de Nevuas normais e melanoma. Afim de unir as bases precisei reduzir o escopo do dataset provido pela HAM10000 (Imagens colhidas pela ISIC em 2018), em apenas Nevuas normais ou melanomas."
   ]
  },
  {
   "cell_type": "code",
   "execution_count": 22,
   "id": "c7357506",
   "metadata": {},
   "outputs": [],
   "source": [
    "import pandas as pd\n",
    "import shutil\n",
    "import os"
   ]
  },
  {
   "cell_type": "code",
   "execution_count": 35,
   "id": "94d81e75",
   "metadata": {},
   "outputs": [],
   "source": [
    "final_path = \"dataset_final//imagens//\""
   ]
  },
  {
   "cell_type": "code",
   "execution_count": 98,
   "id": "a4105264",
   "metadata": {},
   "outputs": [
    {
     "name": "stdout",
     "output_type": "stream",
     "text": [
      "Tamanho Original:  (10015, 8)\n",
      "Tamanho após aplifcar o filtro:  (7818, 8)\n"
     ]
    }
   ],
   "source": [
    "path_HAM10000 = \"dataset_1//HAM10000_images//\"\n",
    "df_HAM10000_csv = \"dataset_1//HAM10000_metadata\"\n",
    "\n",
    "df_HAM10000_csv = pd.read_csv(df_HAM10000_csv)\n",
    "\n",
    "#Tamanho original\n",
    "print('Tamanho Original: ', df_HAM10000_csv.shape)\n",
    "\n",
    "#Filtrando apenas melanocytic nevi (begnigno) e melanoma(maligno), \n",
    "#o resto da base será desconsiderado para este estudo.\n",
    "df_HAM10000_csv_filtered=df_HAM10000_csv[(df_HAM10000_csv.dx == \"nv\") | (df_HAM10000_csv.dx == \"mel\")]\n",
    "\n",
    "#Tamanho após filtrado\n",
    "print('Tamanho após aplifcar o filtro: ', df_HAM10000_csv_filtered.shape)\n",
    "\n",
    "#Movendo os arquivos para Pasta Final\n",
    "for index, row in df_HAM10000_csv_filtered.iterrows(): \n",
    "    shutil.copy2(path_HAM10000 + row['image_id'] + '.jpg', final_path)\n"
   ]
  },
  {
   "cell_type": "code",
   "execution_count": 90,
   "id": "7540e74c",
   "metadata": {},
   "outputs": [
    {
     "name": "stdout",
     "output_type": "stream",
     "text": [
      "(170, 2)\n"
     ]
    },
    {
     "data": {
      "text/html": [
       "<div>\n",
       "<style scoped>\n",
       "    .dataframe tbody tr th:only-of-type {\n",
       "        vertical-align: middle;\n",
       "    }\n",
       "\n",
       "    .dataframe tbody tr th {\n",
       "        vertical-align: top;\n",
       "    }\n",
       "\n",
       "    .dataframe thead th {\n",
       "        text-align: right;\n",
       "    }\n",
       "</style>\n",
       "<table border=\"1\" class=\"dataframe\">\n",
       "  <thead>\n",
       "    <tr style=\"text-align: right;\">\n",
       "      <th></th>\n",
       "      <th>image_id</th>\n",
       "      <th>type</th>\n",
       "    </tr>\n",
       "  </thead>\n",
       "  <tbody>\n",
       "    <tr>\n",
       "      <th>0</th>\n",
       "      <td>2216854</td>\n",
       "      <td>mel</td>\n",
       "    </tr>\n",
       "    <tr>\n",
       "      <th>1</th>\n",
       "      <td>1834988</td>\n",
       "      <td>mel</td>\n",
       "    </tr>\n",
       "    <tr>\n",
       "      <th>2</th>\n",
       "      <td>512681-h</td>\n",
       "      <td>mel</td>\n",
       "    </tr>\n",
       "    <tr>\n",
       "      <th>3</th>\n",
       "      <td>2234484-h</td>\n",
       "      <td>mel</td>\n",
       "    </tr>\n",
       "    <tr>\n",
       "      <th>4</th>\n",
       "      <td>625759</td>\n",
       "      <td>mel</td>\n",
       "    </tr>\n",
       "  </tbody>\n",
       "</table>\n",
       "</div>"
      ],
      "text/plain": [
       "    image_id type\n",
       "0    2216854  mel\n",
       "1    1834988  mel\n",
       "2   512681-h  mel\n",
       "3  2234484-h  mel\n",
       "4     625759  mel"
      ]
     },
     "execution_count": 90,
     "metadata": {},
     "output_type": "execute_result"
    }
   ],
   "source": [
    "df_mednode = pd.DataFrame(columns=['image_id','type'])\n",
    "path_mednode = \"dataset_2//complete_mednode_dataset//\"\n",
    "\n",
    "for diretorio,subpasta, arquivos in os.walk(path_mednode):\n",
    "    if diretorio !=\"dataset_2//complete_mednode_dataset//\":\n",
    "        for arquivo in arquivos:\n",
    "            if 'melanoma' in diretorio:\n",
    "                df_mednode=df_mednode.append({'image_id': arquivo.replace('.jpg',''), 'type':'mel'}, ignore_index=True)\n",
    "                shutil.copy2(diretorio +'//'+ arquivo, final_path)\n",
    "            elif 'naevus' in diretorio:\n",
    "                df_mednode=df_mednode.append({'image_id': arquivo.replace('.jpg',''), 'type':'nv'}, ignore_index=True)\n",
    "                shutil.copy2(diretorio +'//'+ arquivo, final_path)\n",
    "        \n",
    "print(df_mednode.shape)\n",
    "df_mednode.head()"
   ]
  },
  {
   "cell_type": "code",
   "execution_count": 108,
   "id": "ec9a690c",
   "metadata": {},
   "outputs": [
    {
     "name": "stdout",
     "output_type": "stream",
     "text": [
      "Dataframe HAM10000:  (7818, 8)\n",
      "Dataframe HAM10000 colunas:  Index(['lesion_id', 'image_id', 'dx', 'dx_type', 'age', 'sex', 'localization',\n",
      "       'dataset'],\n",
      "      dtype='object')\n",
      "Dataframe Med Node:  (170, 2)\n",
      "Dataframe Med Node colunas:  Index(['image_id', 'type'], dtype='object')\n",
      "Dataframe final:  (7988, 2)\n",
      "       image_id type\n",
      "0  ISIC_0024698   nv\n",
      "1  ISIC_0024693   nv\n",
      "2  ISIC_0025964  mel\n",
      "3  ISIC_0030623  mel\n",
      "4  ISIC_0027190  mel\n",
      "       image_id type\n",
      "7983  2202309-h   nv\n",
      "7984    2215612   nv\n",
      "7985    2085285   nv\n",
      "7986   416266-h   nv\n",
      "7987     457838   nv\n"
     ]
    }
   ],
   "source": [
    "#Unindo os dataframes de Typagem de cada imagem:\n",
    "\n",
    "print('Dataframe HAM10000: ', df_HAM10000_csv_filtered.shape)\n",
    "print('Dataframe HAM10000 colunas: ', df_HAM10000_csv_filtered.columns)\n",
    "\n",
    "print('Dataframe Med Node: ', df_mednode.shape)\n",
    "print('Dataframe Med Node colunas: ', df_mednode.columns)\n",
    "\n",
    "df_HAM10000_final=df_HAM10000_csv_filtered.drop(columns=['lesion_id', 'dx_type', 'age', 'sex', 'localization', 'dataset'])\n",
    "df_HAM10000_final=df_HAM10000_final.rename(columns = {'image_id': 'image_id', 'dx': 'type'}, inplace = False)\n",
    "\n",
    "df_final = pd.DataFrame(columns=['image_id','type'])\n",
    "df_final = df_final.append(df_HAM10000_final, ignore_index=True)\n",
    "df_final = df_final.append(df_mednode, ignore_index=True)\n",
    "\n",
    "print('Dataframe final: ' , df_final.shape)\n",
    "\n",
    "print(df_final.head())\n",
    "print(df_final.tail())\n",
    "\n",
    "df_final.to_csv(\"dataset_final//\" + \"classificacao_dataset.csv\")"
   ]
  },
  {
   "cell_type": "markdown",
   "id": "9508fb40",
   "metadata": {},
   "source": [
    "## 3. Processamento/Tratamento dos Dados\n"
   ]
  },
  {
   "cell_type": "code",
   "execution_count": null,
   "id": "be752ef2",
   "metadata": {},
   "outputs": [],
   "source": []
  },
  {
   "cell_type": "markdown",
   "id": "4e1ac865",
   "metadata": {},
   "source": [
    "## 4. Análise/Exploração dos Dados\n",
    "\n"
   ]
  },
  {
   "cell_type": "code",
   "execution_count": null,
   "id": "3b963361",
   "metadata": {},
   "outputs": [],
   "source": []
  },
  {
   "cell_type": "markdown",
   "id": "8fe3161e",
   "metadata": {},
   "source": [
    "## 5. Criação do Modelo de ML"
   ]
  },
  {
   "cell_type": "code",
   "execution_count": null,
   "id": "fc4af775",
   "metadata": {},
   "outputs": [],
   "source": []
  },
  {
   "cell_type": "markdown",
   "id": "d2a10d86",
   "metadata": {},
   "source": [
    "## 6. Interpretação dos Resultados"
   ]
  },
  {
   "cell_type": "code",
   "execution_count": null,
   "id": "5ce9cba2",
   "metadata": {},
   "outputs": [],
   "source": []
  },
  {
   "cell_type": "markdown",
   "id": "673104a5",
   "metadata": {},
   "source": [
    "## 7. Comunicação dos Resultados"
   ]
  },
  {
   "cell_type": "code",
   "execution_count": null,
   "id": "273ec392",
   "metadata": {},
   "outputs": [],
   "source": []
  },
  {
   "cell_type": "markdown",
   "id": "001acb03",
   "metadata": {},
   "source": [
    "## 8. Referencias\n",
    "Tschandl, Philipp, 2018, \"The HAM10000 dataset, a large collection of multi-source dermatoscopic images of common pigmented skin lesions\", https://doi.org/10.7910/DVN/DBW86T, Harvard Dataverse, V3, UNF:6:/APKSsDGVDhwPBWzsStU5A== [fileUNF]\n",
    "\n",
    "I. Giotis, N. Molders, S. Land, M. Biehl, M.F. Jonkman and N. Petkov: \"MED-NODE: A computer-assisted melanoma diagnosis system using non-dermoscopic images\", Expert Systems with Applications, 42 (2015), 6578-6585 \n",
    "\n",
    "Skin cancer detection: Applying a deep learning based model driven architecture in the cloud for classifying dermal cell images | https://www.sciencedirect.com/science/article/pii/S2352914819302047\n",
    "\n",
    "PH2 dataset | https://www.fc.up.pt/addi/ph2%20database.html\n",
    "\n",
    "\n",
    "Aprendizagem Profunda Aplicada a Identificação de melanoma | https://tedebc.ufma.br/jspui/bitstream/tede/2578/2/LucasMaia.pdf"
   ]
  },
  {
   "cell_type": "code",
   "execution_count": null,
   "id": "ab4ac2c7",
   "metadata": {},
   "outputs": [],
   "source": []
  }
 ],
 "metadata": {
  "kernelspec": {
   "display_name": "Python 3 (ipykernel)",
   "language": "python",
   "name": "python3"
  },
  "language_info": {
   "codemirror_mode": {
    "name": "ipython",
    "version": 3
   },
   "file_extension": ".py",
   "mimetype": "text/x-python",
   "name": "python",
   "nbconvert_exporter": "python",
   "pygments_lexer": "ipython3",
   "version": "3.9.6"
  }
 },
 "nbformat": 4,
 "nbformat_minor": 5
}
